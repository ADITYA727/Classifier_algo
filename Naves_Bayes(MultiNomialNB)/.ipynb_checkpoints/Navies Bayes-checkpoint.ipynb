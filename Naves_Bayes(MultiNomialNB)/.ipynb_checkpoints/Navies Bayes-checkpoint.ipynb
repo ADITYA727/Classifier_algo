{
 "cells": [
  {
   "cell_type": "markdown",
   "metadata": {},
   "source": [
    "# Import Library"
   ]
  },
  {
   "cell_type": "code",
   "execution_count": 134,
   "metadata": {},
   "outputs": [],
   "source": [
    "import sklearn.datasets as skd\n",
    "from sklearn.pipeline import Pipeline\n",
    "from sklearn.feature_extraction.text import TfidfVectorizer\n",
    "from sklearn.naive_bayes import MultinomialNB\n",
    "from sklearn import metrics\n",
    "from sklearn.metrics import accuracy_score\n",
    "import numpy as np\n",
    "import pandas as pd\n",
    "from sklearn.model_selection import train_test_split"
   ]
  },
  {
   "cell_type": "markdown",
   "metadata": {},
   "source": [
    "# Create Category"
   ]
  },
  {
   "cell_type": "code",
   "execution_count": 148,
   "metadata": {},
   "outputs": [],
   "source": [
    "categories = ['bollywood', 'hollywood','politics', 'cricket','food','football','mobiles','machine learning','bigg boss','happy birthday']"
   ]
  },
  {
   "cell_type": "markdown",
   "metadata": {},
   "source": [
    "# Read Data From CSV"
   ]
  },
  {
   "cell_type": "code",
   "execution_count": 149,
   "metadata": {},
   "outputs": [],
   "source": [
    "data = pd.read_csv('data_large_5000.csv')"
   ]
  },
  {
   "cell_type": "markdown",
   "metadata": {},
   "source": [
    "# Show data"
   ]
  },
  {
   "cell_type": "code",
   "execution_count": 150,
   "metadata": {},
   "outputs": [
    {
     "data": {
      "text/html": [
       "<div>\n",
       "<style scoped>\n",
       "    .dataframe tbody tr th:only-of-type {\n",
       "        vertical-align: middle;\n",
       "    }\n",
       "\n",
       "    .dataframe tbody tr th {\n",
       "        vertical-align: top;\n",
       "    }\n",
       "\n",
       "    .dataframe thead th {\n",
       "        text-align: right;\n",
       "    }\n",
       "</style>\n",
       "<table border=\"1\" class=\"dataframe\">\n",
       "  <thead>\n",
       "    <tr style=\"text-align: right;\">\n",
       "      <th></th>\n",
       "      <th>tweets</th>\n",
       "      <th>tagname</th>\n",
       "    </tr>\n",
       "  </thead>\n",
       "  <tbody>\n",
       "    <tr>\n",
       "      <td>0</td>\n",
       "      <td>amp TeamIndia IndvsBan DayandNightTest PinkBal...</td>\n",
       "      <td>cricket</td>\n",
       "    </tr>\n",
       "    <tr>\n",
       "      <td>1</td>\n",
       "      <td>BharatArmyAwards Here are the nominees for th...</td>\n",
       "      <td>cricket</td>\n",
       "    </tr>\n",
       "    <tr>\n",
       "      <td>2</td>\n",
       "      <td>ALE TeamIndia for the upcoming series against...</td>\n",
       "      <td>cricket</td>\n",
       "    </tr>\n",
       "    <tr>\n",
       "      <td>3</td>\n",
       "      <td>Getting into PinkBallTest mode TeamIndia INDvBAN</td>\n",
       "      <td>cricket</td>\n",
       "    </tr>\n",
       "    <tr>\n",
       "      <td>4</td>\n",
       "      <td>Umpiring in the first ever pink ball match at...</td>\n",
       "      <td>cricket</td>\n",
       "    </tr>\n",
       "    <tr>\n",
       "      <td>...</td>\n",
       "      <td>...</td>\n",
       "      <td>...</td>\n",
       "    </tr>\n",
       "    <tr>\n",
       "      <td>35298</td>\n",
       "      <td>Let the congress amp pesudo intelllectuals kno...</td>\n",
       "      <td>politics</td>\n",
       "    </tr>\n",
       "    <tr>\n",
       "      <td>35299</td>\n",
       "      <td>shah HMO</td>\n",
       "      <td>politics</td>\n",
       "    </tr>\n",
       "    <tr>\n",
       "      <td>35300</td>\n",
       "      <td>shah HMO</td>\n",
       "      <td>politics</td>\n",
       "    </tr>\n",
       "    <tr>\n",
       "      <td>35301</td>\n",
       "      <td>Who Is Kaal</td>\n",
       "      <td>politics</td>\n",
       "    </tr>\n",
       "    <tr>\n",
       "      <td>35302</td>\n",
       "      <td>Who Is Kaal</td>\n",
       "      <td>politics</td>\n",
       "    </tr>\n",
       "  </tbody>\n",
       "</table>\n",
       "<p>35303 rows × 2 columns</p>\n",
       "</div>"
      ],
      "text/plain": [
       "                                                  tweets   tagname\n",
       "0      amp TeamIndia IndvsBan DayandNightTest PinkBal...   cricket\n",
       "1       BharatArmyAwards Here are the nominees for th...   cricket\n",
       "2       ALE TeamIndia for the upcoming series against...   cricket\n",
       "3       Getting into PinkBallTest mode TeamIndia INDvBAN   cricket\n",
       "4       Umpiring in the first ever pink ball match at...   cricket\n",
       "...                                                  ...       ...\n",
       "35298  Let the congress amp pesudo intelllectuals kno...  politics\n",
       "35299                                           shah HMO  politics\n",
       "35300                                           shah HMO  politics\n",
       "35301                                        Who Is Kaal  politics\n",
       "35302                                        Who Is Kaal  politics\n",
       "\n",
       "[35303 rows x 2 columns]"
      ]
     },
     "execution_count": 150,
     "metadata": {},
     "output_type": "execute_result"
    }
   ],
   "source": [
    "data"
   ]
  },
  {
   "cell_type": "markdown",
   "metadata": {},
   "source": [
    "# Create Variable "
   ]
  },
  {
   "cell_type": "code",
   "execution_count": 151,
   "metadata": {},
   "outputs": [],
   "source": [
    "x = data.tweets\n",
    "y = data.tagname"
   ]
  },
  {
   "cell_type": "code",
   "execution_count": 152,
   "metadata": {},
   "outputs": [
    {
     "data": {
      "text/plain": [
       "array(['cricket', 'tagname', 'mobiles', 'food', 'machine learning',\n",
       "       'hollywood', 'happy birthday', 'football', 'bollywood',\n",
       "       'bigg boss', 'politics'], dtype=object)"
      ]
     },
     "execution_count": 152,
     "metadata": {},
     "output_type": "execute_result"
    }
   ],
   "source": [
    "y.unique()"
   ]
  },
  {
   "cell_type": "markdown",
   "metadata": {},
   "source": [
    "# Split Data into test(80%) and train(20%)"
   ]
  },
  {
   "cell_type": "code",
   "execution_count": 153,
   "metadata": {},
   "outputs": [],
   "source": [
    "x_train,x_test,y_train,y_test = train_test_split(x,y,test_size=0.2)"
   ]
  },
  {
   "cell_type": "markdown",
   "metadata": {},
   "source": [
    "# Create linear  pipeline for algorithm first go tf_idf than navies bayes"
   ]
  },
  {
   "cell_type": "code",
   "execution_count": 154,
   "metadata": {},
   "outputs": [],
   "source": [
    "text_clf = Pipeline([('vect', TfidfVectorizer()), ('clf', MultinomialNB()) ])"
   ]
  },
  {
   "cell_type": "markdown",
   "metadata": {},
   "source": [
    "# Now, give training our data "
   ]
  },
  {
   "cell_type": "code",
   "execution_count": 155,
   "metadata": {},
   "outputs": [
    {
     "data": {
      "text/plain": [
       "Pipeline(memory=None,\n",
       "         steps=[('vect',\n",
       "                 TfidfVectorizer(analyzer='word', binary=False,\n",
       "                                 decode_error='strict',\n",
       "                                 dtype=<class 'numpy.float64'>,\n",
       "                                 encoding='utf-8', input='content',\n",
       "                                 lowercase=True, max_df=1.0, max_features=None,\n",
       "                                 min_df=1, ngram_range=(1, 1), norm='l2',\n",
       "                                 preprocessor=None, smooth_idf=True,\n",
       "                                 stop_words=None, strip_accents=None,\n",
       "                                 sublinear_tf=False,\n",
       "                                 token_pattern='(?u)\\\\b\\\\w\\\\w+\\\\b',\n",
       "                                 tokenizer=None, use_idf=True,\n",
       "                                 vocabulary=None)),\n",
       "                ('clf',\n",
       "                 MultinomialNB(alpha=1.0, class_prior=None, fit_prior=True))],\n",
       "         verbose=False)"
      ]
     },
     "execution_count": 155,
     "metadata": {},
     "output_type": "execute_result"
    }
   ],
   "source": [
    "# train the model\n",
    "text_clf.fit(x_train, y_train)"
   ]
  },
  {
   "cell_type": "code",
   "execution_count": 190,
   "metadata": {},
   "outputs": [],
   "source": [
    "#Self test\n",
    "a = [\"She was the reigning queen of modern Bollywood choreography. \\\n",
    "     Just like fans of Hollywood actresses can search for images of\\\n",
    "     their favorite babealicious starlets online, there are many\\\n",
    "     websites dedicated to photos of the many Bollywood actresses\\\n",
    "     who steam up the Bollywood screens\",\"for humans is mostly made\\\n",
    "     through farming or gardening. It includes animal and vegetable\\\n",
    "     sources. Some people refuse to eat food from animal origin, like meat, eggs,\"]\n",
    "predicted = text_clf.predict(a)"
   ]
  },
  {
   "cell_type": "code",
   "execution_count": 191,
   "metadata": {},
   "outputs": [
    {
     "name": "stdout",
     "output_type": "stream",
     "text": [
      "machine learning\n"
     ]
    }
   ],
   "source": [
    "for x in predicted:\n",
    "    print(x)"
   ]
  },
  {
   "cell_type": "code",
   "execution_count": 158,
   "metadata": {},
   "outputs": [],
   "source": [
    "# Predict the test cases\n",
    "predicted = text_clf.predict(x_test)"
   ]
  },
  {
   "cell_type": "code",
   "execution_count": 159,
   "metadata": {},
   "outputs": [
    {
     "name": "stdout",
     "output_type": "stream",
     "text": [
      "Accuracy achieved is 0.9400934711797196\n",
      "                  precision    recall  f1-score   support\n",
      "\n",
      "       bollywood       0.99      0.85      0.91       284\n",
      "       hollywood       0.87      0.94      0.90       996\n",
      "        politics       1.00      0.97      0.98      1030\n",
      "         cricket       0.94      0.95      0.95       961\n",
      "            food       0.90      0.98      0.94      1001\n",
      "        football       0.98      0.95      0.96       627\n",
      "         mobiles       0.95      0.87      0.91      1070\n",
      "machine learning       0.95      0.98      0.97       965\n",
      "       bigg boss       1.00      0.66      0.80        86\n",
      "  happy birthday       1.00      0.46      0.63        41\n",
      "\n",
      "        accuracy                           0.94      7061\n",
      "       macro avg       0.96      0.86      0.90      7061\n",
      "    weighted avg       0.94      0.94      0.94      7061\n",
      "\n"
     ]
    },
    {
     "data": {
      "text/plain": [
       "array([[ 240,   17,    2,    2,   13,    0,    6,    4,    0,    0],\n",
       "       [   1,  941,    2,   11,    9,    9,   21,    2,    0,    0],\n",
       "       [   0,    7, 1002,    1,   18,    0,    2,    0,    0,    0],\n",
       "       [   0,   14,    0,  917,   12,    2,    3,   13,    0,    0],\n",
       "       [   0,    4,    0,    3,  985,    1,    5,    3,    0,    0],\n",
       "       [   0,    9,    0,    5,   13,  595,    3,    2,    0,    0],\n",
       "       [   0,   70,    0,   20,   29,    2,  936,   13,    0,    0],\n",
       "       [   0,    2,    0,    5,    5,    1,    6,  946,    0,    0],\n",
       "       [   0,   10,    1,    4,    3,    0,    2,    9,   57,    0],\n",
       "       [   1,   11,    0,    6,    3,    0,    1,    0,    0,   19]],\n",
       "      dtype=int64)"
      ]
     },
     "execution_count": 159,
     "metadata": {},
     "output_type": "execute_result"
    }
   ],
   "source": [
    "print('Accuracy achieved is ' + str(np.mean(predicted == y_test)))\n",
    "print(metrics.classification_report(y_test, predicted, target_names=categories)),\n",
    "metrics.confusion_matrix(y_test, predicted)"
   ]
  },
  {
   "cell_type": "code",
   "execution_count": null,
   "metadata": {},
   "outputs": [],
   "source": []
  },
  {
   "cell_type": "code",
   "execution_count": null,
   "metadata": {},
   "outputs": [],
   "source": []
  },
  {
   "cell_type": "code",
   "execution_count": null,
   "metadata": {},
   "outputs": [],
   "source": []
  },
  {
   "cell_type": "code",
   "execution_count": null,
   "metadata": {},
   "outputs": [],
   "source": []
  }
 ],
 "metadata": {
  "kernelspec": {
   "display_name": "Python 3",
   "language": "python",
   "name": "python3"
  },
  "language_info": {
   "codemirror_mode": {
    "name": "ipython",
    "version": 3
   },
   "file_extension": ".py",
   "mimetype": "text/x-python",
   "name": "python",
   "nbconvert_exporter": "python",
   "pygments_lexer": "ipython3",
   "version": "3.6.5"
  }
 },
 "nbformat": 4,
 "nbformat_minor": 2
}
