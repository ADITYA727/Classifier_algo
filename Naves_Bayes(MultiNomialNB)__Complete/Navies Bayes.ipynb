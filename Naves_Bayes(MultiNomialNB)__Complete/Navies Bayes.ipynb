{
 "cells": [
  {
   "cell_type": "markdown",
   "metadata": {},
   "source": [
    "# Decision Trees\n",
    "# Naive Bayes Classification(✔)\n",
    "# Support vector machines for classification problems\n",
    "# Random forest for classification and regression problems\n",
    "# Linear regression for regression problems\n",
    "# Ordinary Least Squares Regression\n",
    "# Logistic Regression\n",
    "# Ensemble Methods"
   ]
  },
  {
   "cell_type": "markdown",
   "metadata": {},
   "source": [
    "# ====================================================="
   ]
  },
  {
   "cell_type": "markdown",
   "metadata": {},
   "source": [
    "# Import Library"
   ]
  },
  {
   "cell_type": "code",
   "execution_count": 1,
   "metadata": {},
   "outputs": [],
   "source": [
    "import sklearn.datasets as skd\n",
    "from sklearn.pipeline import Pipeline\n",
    "from sklearn.feature_extraction.text import TfidfVectorizer\n",
    "from sklearn.naive_bayes import MultinomialNB\n",
    "from sklearn import metrics\n",
    "from sklearn.metrics import accuracy_score\n",
    "import numpy as np\n",
    "import pandas as pd\n",
    "from sklearn.model_selection import train_test_split"
   ]
  },
  {
   "cell_type": "markdown",
   "metadata": {},
   "source": [
    "# Create Category"
   ]
  },
  {
   "cell_type": "code",
   "execution_count": 2,
   "metadata": {},
   "outputs": [],
   "source": [
    "categories = ['bollywood', 'hollywood','politics', 'cricket','food','football','mobiles','machine learning','bigg boss','happy birthday']"
   ]
  },
  {
   "cell_type": "markdown",
   "metadata": {},
   "source": [
    "# Read Data From CSV"
   ]
  },
  {
   "cell_type": "code",
   "execution_count": 3,
   "metadata": {},
   "outputs": [],
   "source": [
    "data = pd.read_csv('data_large_5000.csv')"
   ]
  },
  {
   "cell_type": "markdown",
   "metadata": {},
   "source": [
    "# Show data"
   ]
  },
  {
   "cell_type": "code",
   "execution_count": 4,
   "metadata": {},
   "outputs": [
    {
     "data": {
      "text/html": [
       "<div>\n",
       "<style scoped>\n",
       "    .dataframe tbody tr th:only-of-type {\n",
       "        vertical-align: middle;\n",
       "    }\n",
       "\n",
       "    .dataframe tbody tr th {\n",
       "        vertical-align: top;\n",
       "    }\n",
       "\n",
       "    .dataframe thead th {\n",
       "        text-align: right;\n",
       "    }\n",
       "</style>\n",
       "<table border=\"1\" class=\"dataframe\">\n",
       "  <thead>\n",
       "    <tr style=\"text-align: right;\">\n",
       "      <th></th>\n",
       "      <th>tweets</th>\n",
       "      <th>tagname</th>\n",
       "    </tr>\n",
       "  </thead>\n",
       "  <tbody>\n",
       "    <tr>\n",
       "      <td>0</td>\n",
       "      <td>amp TeamIndia IndvsBan DayandNightTest PinkBal...</td>\n",
       "      <td>cricket</td>\n",
       "    </tr>\n",
       "    <tr>\n",
       "      <td>1</td>\n",
       "      <td>BharatArmyAwards Here are the nominees for th...</td>\n",
       "      <td>cricket</td>\n",
       "    </tr>\n",
       "    <tr>\n",
       "      <td>2</td>\n",
       "      <td>ALE TeamIndia for the upcoming series against...</td>\n",
       "      <td>cricket</td>\n",
       "    </tr>\n",
       "    <tr>\n",
       "      <td>3</td>\n",
       "      <td>Getting into PinkBallTest mode TeamIndia INDvBAN</td>\n",
       "      <td>cricket</td>\n",
       "    </tr>\n",
       "    <tr>\n",
       "      <td>4</td>\n",
       "      <td>Umpiring in the first ever pink ball match at...</td>\n",
       "      <td>cricket</td>\n",
       "    </tr>\n",
       "  </tbody>\n",
       "</table>\n",
       "</div>"
      ],
      "text/plain": [
       "                                              tweets  tagname\n",
       "0  amp TeamIndia IndvsBan DayandNightTest PinkBal...  cricket\n",
       "1   BharatArmyAwards Here are the nominees for th...  cricket\n",
       "2   ALE TeamIndia for the upcoming series against...  cricket\n",
       "3   Getting into PinkBallTest mode TeamIndia INDvBAN  cricket\n",
       "4   Umpiring in the first ever pink ball match at...  cricket"
      ]
     },
     "execution_count": 4,
     "metadata": {},
     "output_type": "execute_result"
    }
   ],
   "source": [
    "data.head(5)"
   ]
  },
  {
   "cell_type": "markdown",
   "metadata": {},
   "source": [
    "# Create Variable "
   ]
  },
  {
   "cell_type": "code",
   "execution_count": 5,
   "metadata": {},
   "outputs": [],
   "source": [
    "x = data.tweets\n",
    "y = data.tagname"
   ]
  },
  {
   "cell_type": "code",
   "execution_count": 6,
   "metadata": {},
   "outputs": [
    {
     "data": {
      "text/plain": [
       "array(['cricket', 'mobiles', 'food', 'machine learning', 'hollywood',\n",
       "       'happy birthday', 'football', 'bollywood', 'bigg boss', 'politics'],\n",
       "      dtype=object)"
      ]
     },
     "execution_count": 6,
     "metadata": {},
     "output_type": "execute_result"
    }
   ],
   "source": [
    "y.unique()"
   ]
  },
  {
   "cell_type": "markdown",
   "metadata": {},
   "source": [
    "# Split Data into test(80%) and train(20%)"
   ]
  },
  {
   "cell_type": "code",
   "execution_count": 7,
   "metadata": {},
   "outputs": [],
   "source": [
    "x_train,x_test,y_train,y_test = train_test_split(x,y,test_size=0.2)"
   ]
  },
  {
   "cell_type": "code",
   "execution_count": 8,
   "metadata": {},
   "outputs": [
    {
     "data": {
      "text/plain": [
       "7060"
      ]
     },
     "execution_count": 8,
     "metadata": {},
     "output_type": "execute_result"
    }
   ],
   "source": [
    "y_test.size"
   ]
  },
  {
   "cell_type": "code",
   "execution_count": 9,
   "metadata": {},
   "outputs": [
    {
     "data": {
      "text/plain": [
       "28240"
      ]
     },
     "execution_count": 9,
     "metadata": {},
     "output_type": "execute_result"
    }
   ],
   "source": [
    "y_train.size"
   ]
  },
  {
   "cell_type": "markdown",
   "metadata": {},
   "source": [
    "# Create linear  pipeline for algorithm first go tf_idf than navies bayes"
   ]
  },
  {
   "cell_type": "code",
   "execution_count": 10,
   "metadata": {},
   "outputs": [],
   "source": [
    "text_clf = Pipeline([('vect', TfidfVectorizer()), ('clf', MultinomialNB()) ])"
   ]
  },
  {
   "cell_type": "markdown",
   "metadata": {},
   "source": [
    "# Now, give training our data "
   ]
  },
  {
   "cell_type": "code",
   "execution_count": 11,
   "metadata": {},
   "outputs": [
    {
     "data": {
      "text/plain": [
       "Pipeline(memory=None,\n",
       "         steps=[('vect',\n",
       "                 TfidfVectorizer(analyzer='word', binary=False,\n",
       "                                 decode_error='strict',\n",
       "                                 dtype=<class 'numpy.float64'>,\n",
       "                                 encoding='utf-8', input='content',\n",
       "                                 lowercase=True, max_df=1.0, max_features=None,\n",
       "                                 min_df=1, ngram_range=(1, 1), norm='l2',\n",
       "                                 preprocessor=None, smooth_idf=True,\n",
       "                                 stop_words=None, strip_accents=None,\n",
       "                                 sublinear_tf=False,\n",
       "                                 token_pattern='(?u)\\\\b\\\\w\\\\w+\\\\b',\n",
       "                                 tokenizer=None, use_idf=True,\n",
       "                                 vocabulary=None)),\n",
       "                ('clf',\n",
       "                 MultinomialNB(alpha=1.0, class_prior=None, fit_prior=True))],\n",
       "         verbose=False)"
      ]
     },
     "execution_count": 11,
     "metadata": {},
     "output_type": "execute_result"
    }
   ],
   "source": [
    "# train the model\n",
    "text_clf.fit(x_train, y_train)"
   ]
  },
  {
   "cell_type": "code",
   "execution_count": 12,
   "metadata": {},
   "outputs": [],
   "source": [
    "# Predict the test cases\n",
    "real_predicted = text_clf.predict(x_test)"
   ]
  },
  {
   "cell_type": "code",
   "execution_count": 14,
   "metadata": {},
   "outputs": [
    {
     "name": "stdout",
     "output_type": "stream",
     "text": [
      "' ALE TeamIndia for the upcoming series against West Indies announced INDvWI' => cricket\n",
      "' Behindthescenes GirlLostAHollywoodStory w actress PsalmsSalazar amp cinematographer Hollywood' => hollywood\n",
      "'Redmi Note Pro Snapdragon G edition does not exist reveals Lu Weibing redmi RedmiNotePro' => mobiles\n",
      "'redmi redminotepro Android MIUI MIUI Miui EU Beta ROM for Redmi Note Pro Better than MIUI ' => mobiles\n",
      "'Hot damn is sizzling in this hot ensemble TheFilmyReporter FilmyReporter TFR TFRBuzz' => bollywood\n",
      "'I m Always Changing Up the Items that I Display Around My House from My Collection of Historical Artifacts This' => hollywood\n",
      "'BEE HAPPY Bright fun modernquilt featuring fabulous Loralie Ladies Giftsforher Giftsformom' => happy birthday\n",
      "' ALE TeamIndia for the upcoming series against West Indies announced INDvWI' => cricket\n",
      "' Wanted street robbers gallery millwall westham tottenham arsenal chelsea brexit' => football\n",
      "' pasta pizza' => food\n",
      "'Feeling chilly Our homemade zesty Italian Sausage Spaghetti will warm you right up yum yummy nomnom food' => food\n",
      "' ALE TeamIndia for the upcoming series against West Indies announced INDvWI' => cricket\n",
      "'hello gioved VedanoAlLambro bonapeT vegetariano vegetarian pasta fusilli LateDinner haveAniceTime' => food\n",
      "' com What a strike this was from Kovacic for Inter Milan his first Chelsea goal is still pending CFC' => football\n",
      "'I feel bad that sacked Pochettino He did a lot for that team But those saying Mourinho shouldnt' => football\n",
      "' Somebody Got a Standing Ovation at Richard Jewell Premiere in Hollywood Everything fell into place and Im the lu' => hollywood\n",
      "' ALE TeamIndia for the upcoming series against West Indies announced INDvWI' => cricket\n",
      "' ALE TeamIndia for the upcoming series against West Indies announced INDvWI' => cricket\n",
      "' Spaghetti con aiughe olive e pomodori Here the recipe pasta soogood recipe ri' => food\n",
      "'oh che bello l ennesima inchiesta farloa contro Salvini Secondo me e hanno un team a' => food\n",
      "'Leicester determined to reject any bid from Chelsea for m rated Ben Chilwell' => football\n",
      "'Day We have only experimented with letters so far but what do you think happens when we dabble with numbers Fi' => football\n",
      "' Somebody Got a Standing Ovation at Richard Jewell Premiere in Hollywood Everything fell into place and Im the lu' => hollywood\n",
      "'Will Sanju Samson Get s Any More Chances in Future to TeamIndia SanjuSamson INDvsWI' => cricket\n",
      "' ALE TeamIndia for the upcoming series against West Indies announced INDvWI' => cricket\n",
      "'Did Marathas and Rajputs ever loose any battle to anyone As per Bollywood NO Then howcome they never rule' => football\n",
      "' AI multiple set of artificial tech intelligent algorithm base coding languages such as machinelearning or deepnatural' => machine learning\n",
      "' ALE TeamIndia for the upcoming series against West Indies announced INDvWI' => cricket\n",
      "'WednesdayMotivation MSM Hollywood REAL PREDATORS' => hollywood\n",
      "' Pop Corn Cool Drinks Torch hollywood movies contest fun moviejunkies contest action drama' => hollywood\n",
      "'Jose Mourinho Reveals He Intends to Bring Happiness Back to Spurs After Becoming Head Coach' => football\n",
      "'Selezione ricette scamorza amp pasta by app megliocucina CLICCA QUI scamorza pasta' => food\n",
      "' Dear Bollywood Community at the weekend it s time to watch a movie with Please vote which movie i should see' => bollywood\n",
      "' ShilpaShinde winner of BB was also called flip She did it all our entertainment Nobody cud recognize her spirit' => bigg boss\n",
      "' Parametric Bootstrap Non Parametric Bootstrap Traditional Parametric Comparison in One Picture' => machine learning\n",
      "'First it was a bad screenplay of the FakeNews transcript now the acting is atrocious' => hollywood\n",
      "' Musical A celebration throughout Hollywood that s all to do with Congratulations to our original Elphaba on bein' => hollywood\n",
      "'So keeps getting chance after chance after very poor performance but Khaleel Ahmed after a little po' => hollywood\n",
      "' Sisterz Happybirthday to ryu Happy ryusujeong day ryusujeongday' => happy birthday\n",
      "' All the fans complete the sentence in the comments below erosnow bollywood SidharthMalhotra entertainm' => bollywood\n",
      "'Artificial Intelligence A Need of Modern Intelligent Education Thrive Global Read more here' => machine learning\n",
      "'de PASTA' => food\n",
      "' A gallery of wanted street robbers in London see if you know any from your area and get them banged up for xmas It is' => football\n",
      "' Pandit JawaharlalNehru was the leader who influenced fellow leaders amp a great person who inspired and nurtured tiny litt' => happy birthday\n",
      "'Neha Dhupia opens up on battling body image issues fat shaming not getting work post pregnancy Check out the vide' => bollywood\n",
      "'Smartfony s niebezpieczne jeli niewaciwie z nich korzystamy Xiaomi Redmi RedmiNoteS' => mobiles\n",
      "'You wanted the hottest thing in JayLilRoseCollection is giving it to you getfamiliar lasvegas ladies' => hollywood\n",
      "' amp more Unchained TimChizmar Raphaello Hollywood Indie Film http' => hollywood\n",
      "'Enterprise ready DataScience and MachineLearning with Python by with' => machine learning\n",
      "'Afghanistan Under vs India Under in India st Youth ODI India U vs Afghanistan U TOMORROW am' => cricket\n",
      "' Happy Happy Birthday dear brother Arya Ravi Wishing you fantastic year ahead' => happy birthday\n",
      "' While scrolling through my TL I found a picture of and together at and I remembered' => bollywood\n",
      "' abdulhakimjoy spotlightactor abdulhakim imdb britishbangladeshi bengaliactor celebrity actor model abdulhakim' => bollywood\n",
      "' ALE TeamIndia for the upcoming series against West Indies announced INDvWI' => cricket\n",
      "' Heavenly Sunday is my Birthday Scorpio Season Im soo blessed to see another year Happy Healthy Blessed marriedmed Dr' => happy birthday\n",
      "' Happy Birthday Helen What are your favorite songs picturized on her bollywood Bollywoodirect' => bollywood\n",
      "' vanLoon AI will add trillion to the global economy by by ArtificialIntelligence AI MachineLearning FinTe' => machine learning\n",
      "' ALE TeamIndia for the upcoming series against West Indies announced INDvWI' => cricket\n",
      "'Der Oscar Abrumer mit Hollywood Starbesetzung Wir laden dich um Uhr ein ins GrandBudapestHotel' => food\n",
      "' Tak Ye season itna Push kiya gaya ek dusre ko Means Physical Violence But Punishment Kisse ko bhi mila ky Aur BB m' => bigg boss\n",
      "'Jar Soup Mixes Good Luck Soup Patchwork Soup or Pasta Fazuul soup mix in a Mason Jar soup pasta HealthyLiving' => food\n",
      "' amp follow for a chance to win a Funko Hollywood exclusive Tony the Tiger Pop Funko Pop FunkoHollywo' => hollywood\n",
      "' Interdit de transfert jusqu en juin Chelsea a fait appel de cette dcision devant le tribunal arbitral du sport' => football\n",
      "'food foodporn foodphotography foodie foodstagram foodstagram life lunch pasta' => food\n",
      "'Happy Birthday ' => happy birthday\n",
      "'Tracing Shah Rukh Khans journey from TV to Bollywood on World Television Day Moments from TV Ka Dum India' => bollywood\n",
      "' pulipaka A Denver Native Created An Artificially Intelligent Dating App Magazine BigData Analytics DataScience MachineLe' => machine learning\n",
      "' DYK that billion cubic meters of treated water is lost globally each year due to leakage problems in distribution systems' => machine learning\n",
      "' com What a strike this was from Kovacic for Inter Milan his first Chelsea goal is still pending CFC' => football\n",
      "' NOW ON AUDIBLE AUDIOBOOK Bookstagram Mystery Thriller Bookboost Hollywood audiobooks Stars' => hollywood\n",
      "' ALE TeamIndia for the upcoming series against West Indies announced INDvWI' => cricket\n",
      "'Aording to statistics data scientists spend of their time on data preparation cleaning and organizing data' => machine learning\n",
      "'Wanted street robbers gallery millwall westham tottenham arsenal chelsea brexit' => football\n",
      "'pasta rizotto pasta rizotto' => food\n",
      "'The only way I like my eggs for breakfast egg yolk ravioli wild mushroom fresh ricotta spinach glaz' => food\n",
      "' TeamIndia IndvsWI Virat Kohli returns after skipping T series against Bangladesh Shivam Dube earns maiden ODI call' => cricket\n",
      "' Pregunta Hace cuatro aos estando en Chelsea usted dijo que nunca vendra a a dirigir a Tottenham porque amaba demasiado' => football\n",
      "'Christmas is coming soon and Sartori has created the tastiest Christmas Menu for you Send an enquiry' => food\n",
      "' King is all set to take on the PinkBall challenge Here s wishing him amp TeamIndia all the best for PinkBallTest' => cricket\n",
      "'Scorpios this ones for you Head over to Genting Rewards amp see what we re giving out for your Birthday' => bollywood\n",
      "' Official Jos Mourinho is the new Tottenham Hotspur manager How are you feeling right now Chelsea fans cfc chelse' => football\n",
      "'happy birthday pinkcity Jaipur' => happy birthday\n",
      "'Newnpastas tonight Mushroom ravioli and scallops with spicy spaghettini Bomba pasta italian italianfood' => food\n",
      "' amp follow for a chance to win a Funko Hollywood exclusive Marilyn Monroe Pop Funko Pop FunkoHollywo' => hollywood\n",
      "' Reposted from s regrann snapped at dubbingstudio in juhu today mumbai' => bollywood\n",
      "' pulipaka Advanced Features of Pandas and How to Use Them BigData Analytics DataScience AI MachineLearning IoT IIoT PyTor' => machine learning\n",
      "' com What a strike this was from Kovacic for Inter Milan his first Chelsea goal is still pending CFC' => football\n",
      "' INDvWI TeamIndia India squad for West Indies series out Shami makes TI comeback Rohit Sharma not rested Full S' => cricket\n",
      "' MDPI mdpialgorithms Another New Special Issue Algorithms in Convex Optimization and Applications edited by Dr Sorin Mih' => machine learning\n",
      "'Bhumi Pednekar reveals how she drew inspiration from Karisma Kapoor The actor who will be seen playing the on sc' => bollywood\n",
      "'Gareth Southgate Concedes Poor Performance at Euro Could Cost Him England Job' => football\n",
      "' ALE TeamIndia for the upcoming series against West Indies announced INDvWI' => cricket\n",
      "'Spaghetti aux crevettes en sauce crmeuse au pesto crevettes shrimp Food' => food\n",
      "' of enterprises have adopted and implemented AI to its full potential for cybersecurity or are still exploring addi' => machine learning\n",
      "' ALE TeamIndia for the upcoming series against West Indies announced INDvWI' => cricket\n",
      "'When the inker calls in drunk comicbook Marvel humor art rocknroll quotes PulpFiction alternative' => hollywood\n",
      "' The adventures of AI Man and AI Robot Part artificialintelligence ai technology machinelearning innovation big' => machine learning\n",
      "'Burning Questions After Avengers Endgame Like Us fb Hollywood News' => hollywood\n",
      "' Frau mchte Pasta Ich Frage was fr Pasta Ihre Antwort egal welche war ganz offensichtlich gelogen Das Schlimmst' => food\n",
      "'If we can have reasonable expectations then we are likely to have underestimated the effects of Ai and' => football\n",
      "' Pregunta Hace cuatro aos estando en Chelsea usted dijo que nunca vendra a a dirigir a Tottenham porque amaba demasiado' => football\n",
      "'Injustice why Sanju dropped without giving an opportunity Shame on you selectors Please remove your D glas' => cricket\n",
      "' ExposeTheTruth The World Is Watching WakeUp SheKnew illuminatiAgenda Hollywood' => hollywood\n",
      "'Spent tonight celebrating the birthday of my Buddy Gustavo at this great place in Little Italy Oh so good' => hollywood\n",
      "' You know that rivalry between Chelsea and Spurs Yeah its bigger than ever nd December lets go' => football\n",
      "' Trump TrumpExtorted TeamIndia ThursdayMotivation ThursdayThoughts' => cricket\n",
      "' Liga Inggris pekan ke diramaikan duel Manchester City vs Chelsea Ada juga momen kembalinya Jose Mourinho ke tepi lapang' => football\n",
      "'Please don t even think of bahu amp beau drama this season It s a request Arhan s stint in the house was enough' => football\n",
      "' When you CFC twitter sees your new aount and hits that follow UTC KTBFFH ChelseaFC Chelsea StamfordBridge Lond' => football\n",
      "' mayor Listen to the song cfc Chelsea ChelseaFC wizkid Wizkidfc wizkidreturntotheo wizkidthegoat' => football\n",
      "'Celebrando la vida feliz cumpleaos happy birthday cuarentaytres ElGatoAlAire LaHoraDelGato for theCat' => happy birthday\n",
      "' ALE TeamIndia for the upcoming series against West Indies announced INDvWI' => cricket\n",
      "'Good evening Saturday SCD pasta tomatosauce mozzarella trufflesalt BBphotobomb' => food\n",
      "' Data Quick Facts About IoT Infographic BigData DataScience Tech AI ArtificialIntelligence MachineLearning ML CC' => machine learning\n",
      "'INDvWI TeamIndia India announce their squad for the ODI amp T Series against the West Indies Great to see KL Ra' => cricket\n",
      "' Tak Ye season itna Push kiya gaya ek dusre ko Means Physical Violence But Punishment Kisse ko bhi mila ky Aur BB m' => bigg boss\n",
      "' inter Ottobre Tifosi del Chelsea fischiano e urlano per tutto il match Fuck off Mourinho Jos cos mostra le dita' => football\n",
      "'Whips out a fat GB USB stick CGMusicGroup Brooklyn Miami Tokyo HongKong London Wynwood Hollywood' => hollywood\n",
      "' Bollywood Actor had been shooting in Banaras for shubhmangalzyadasaavdhan with PankhuriAwasthy and others As' => bollywood\n",
      "'life If Priyank Sharma was thrown out from BB for a single push Then why not this man Why so much biased ness' => football\n",
      "'Chelsea named as interested in Brazilian midfielder Will have to hurry chelsea' => football\n",
      "' KritiSanon is raring to go with some interesting roles as the actress has landed a meaty part in BachchanPandey opposite A' => bollywood\n",
      "' A selector serves drinks to Anushka Sharma a coach has a beer and A keeper who does know to catch a ball ha ha this i' => cricket\n",
      "' This Big Batch Beef Ragu with Pasta easily feeds people You can make the ragu ahead of time and reheat just before' => food\n",
      "' UBUSHOMERI BURAGATSINDWA Dore ibyo Mourinho yavuze muri bamuhaye akazi ko gutoza Spurs NJYE SINSHOBORA GUTOZA' => football\n",
      "'shraddhakapoor bollywood chhichhore saaho streetdancerd Baaghi prabhas varundhawan' => bollywood\n",
      "'Uber song for the win apne biwi bachcho ke kareeb hoon main duniya mein kitna khushnaseeb hoon what movie is th' => bollywood\n",
      "' Somebody Got a Standing Ovation at Richard Jewell Premiere in Hollywood Everything fell into place and Im the lu' => hollywood\n",
      "' ShilpaShinde winner of BB was also called flip She did it all our entertainment Nobody cud recognize her spirit ' => bigg boss\n",
      "' Hey Thalaivar Fans have you seen this Front Page Headline Of the top Maharashtra Newspaper That s is the power of' => bollywood\n",
      "' Killer Looks tigershroff hot baaghi shootdiaries handsome bollywood movietalkies hunk trendi' => bollywood\n",
      "' The All India Senior Selection Committee met in Kolkata today to pick the squads for the upcoming tour against West Indies An u' => cricket\n",
      "' ALE TeamIndia for the upcoming series against West Indies announced INDvWI' => cricket\n",
      "'BiggBoss BB winner ShilpaShinde feels that ArhaanKhan entered the house for RashamiDesai' => bigg boss\n",
      "' Ok October happy birthday kirankumpati' => happy birthday\n",
      "' Another excellent meal at the BarbicanPastaBar in the Barbican Plymouth with the best of hospitality and delicious Ital' => food\n",
      "'We have pizzas and pasta pizza pasta italian food homecooked' => food\n",
      "' Please give a big happy birthday shout out to my twins Minnie Bat amp Sox They are year old today' => happy birthday\n",
      "'Language is not a barrier anymore AI is assisting million monthly internet users in India with multiple langua' => machine learning\n",
      "'Wishing the gorgeous a very Happy Birthday Join in the celebrations by listening to her song T' => bollywood\n",
      "' Pizza A scary mask to freak them out amp Some cold drinks hollywood movies moviejunkies comedy Jo' => hollywood\n",
      "' The agenda for SmartCities Infographic CyberSecurity IoT BigData sensors startup Analytics AI PP f' => machine learning\n",
      "'Happy Birthday Alma Have a blissful day HappyBirthday Happy birthday birthdaywishes birthdayvibes' => happy birthday\n",
      "' ALE TeamIndia for the upcoming series against West Indies announced INDvWI' => cricket\n",
      "'Mi amp Redmi Redmi Note ' => mobiles\n",
      "' Hats on to fight hunger items collected so far for the Northland Christmas Store pasta amp ricedrive ' => food\n",
      "' All The Best TeamIndia Give your best Win the match Make your fans happy Make a double hundred P' => cricket\n",
      "' ALE TeamIndia for the upcoming series against West Indies announced INDvWI' => cricket\n",
      "' Pasta time Novembre novemberth Nov novembre pasta LunchTime lunch Lover pastalover amatriciana' => food\n",
      "' Please give a big happy birthday shout out to my twins Minnie Bat amp Sox They are year old today' => happy birthday\n",
      "'Using gamification can improve an organization s overall security while making it fun Leveraging a platform that' => machine learning\n",
      "'You guys I shared dinner tonight on my story Make sure to check it out chickendiane pasta dinnerplans' => food\n",
      "' com What a strike this was from Kovacic for Inter Milan his first Chelsea goal is still pending CFC' => football\n",
      "' Easy Fall Pasta Salad Thanksgiving Pasta Salad Recipe using nutritious roasted veggies cr' => food\n",
      "' ALE TeamIndia for the upcoming series against West Indies announced INDvWI' => cricket\n",
      "' ALE TeamIndia for the upcoming series against West Indies announced INDvWI' => cricket\n",
      "'Airbus Wayfinder Is Building Autonomy for Urban Air Mobility and Single Pilot machinelearning intoAInews' => machine learning\n",
      "' ALE TeamIndia for the upcoming series against West Indies announced INDvWI' => cricket\n",
      "'Most used hashtags by Disruptivetech influencers on twitter during YTD ArtificialInteligence Fintech' => machine learning\n",
      "'Pakistani singer Meesha Shafi has aused Kill Dil actor and singer Ali Zafar for sexually harassing her' => bollywood\n",
      "' Somebody Got a Standing Ovation at Richard Jewell Premiere in Hollywood Everything fell into place and Im the lu' => hollywood\n",
      "'The day was amp flew us safely to Zanzibar My travel buddy' => football\n",
      "'Future of Staffing Industry Technology is NOW staffingservices hiring staffingtechnology machinelearning' => machine learning\n",
      "'Shrimp amp Pesto Pasta Recipe dinner easyrecipe yummy pasta recipe food shrimp' => food\n",
      "'Last minute staff meeting before we start our day lets get ready to ride hollywoodtrailrides hollywood' => food\n",
      "' Daily Mail Inter Milan s planned move for Chelsea s striker Olivier Giroud could be scuppered by the striker s demands' => football\n",
      "' years ago Chelsea sacked a manager that got them to the Champions League final and loved by the fans He was replace' => football\n",
      "' Trending the Trends A Decade of Research Infographic CyberSecurity MachineLearning AI DevOps Analytics CIO IoT B' => machine learning\n",
      "'Slow Cooker Pasta Ways Comfort Food Worth The Wait EverydaySpices' => food\n",
      "' vk Most worst selector of an Indian team He is not even considering key players of a TeamIndia Especially and' => cricket\n",
      "' Sooryavanshi actress KatrinaKaif s enticing close up picture will make you fall head over heels for her Check out the pic' => bollywood\n",
      "' So thankful So ready for this new year Happy birthday to me' => happy birthday\n",
      "'Ajax gaat nu bij CAS in beroep tegen straf op basis van Valencia uit voetbalnieuws stamfordbridge chelsea' => football\n",
      "' Getting into PinkBallTest mode TeamIndia INDvBAN' => cricket\n",
      "'Kovacic in PL this season Can t believe i m one of some Chelsea fans who didn t want him to be here permanently' => football\n",
      "'So there you go given a garage with an abundance of food we have a very healthy amp photogenic mouse with a pasta o' => food\n",
      "' This Big Batch Beef Ragu with Pasta easily feeds people You can make the ragu ahead of time and reheat just before' => food\n",
      "' Independent Spirit Awards Nominations Updated Live via Award' => hollywood\n",
      "' pulipaka Deep Learning for Object Detection A Survey BigData Analytics DataScience AI MachineLearning DeepLearning IoT II' => machine learning\n",
      "'Great to see everyone getting involved in our Pasta Demo last night even the staff joined in pasta' => food\n",
      "'Our Easy Shrimp Scampi has tender plump shrimp in a buttery garlic sauce with a touch of lemon a little heat tend' => food\n",
      "'Front page of TimesSport edicola primapagina Arsenal Chelsea Liverpool Spurs' => football\n",
      "' ' => football\n",
      "' Want to help win in Chelsea and Fulham Donate Campaign with us' => football\n",
      "'Gareth Bale Celebrates With a Wales Golf Madrid Flag And the Madrid Press Hate it' => football\n",
      "' The All India Senior Selection Committee met in Kolkata today to pick the squads for the upcoming tour against West Indies An u' => cricket\n",
      "' Please give a big happy birthday shout out to my twins Minnie Bat amp Sox They are year old today' => happy birthday\n",
      "'SidharthShukla best player bigg boss ' => bigg boss\n",
      "' ALE TeamIndia for the upcoming series against West Indies announced INDvWI' => cricket\n",
      "' Sooryavanshi actress KatrinaKaif s enticing close up picture will make you fall head over heels for her Check out the pic' => bollywood\n",
      "'Hey how is your presidential campaign coming along Pasta' => food\n",
      "'The rise of robotics machinelearning G and more point to a new world weve never seen or worked in before Wa' => machine learning\n",
      "'is happy birthday' => happy birthday\n",
      "' deewana Though I have to say in that season top celebrities Hina Vikas amp Shilpa gave a lot of content amp literally ruled It' => bollywood\n",
      "' Daily Mail Inter Milan s planned move for Chelsea s striker Olivier Giroud could be scuppered by the striker s demands' => football\n",
      "' Did you notice Sanaya rhymes with Shourya Kya coincidence hai MagicFmMumbai JeeLeZaraa mumbai bollywood sta' => bollywood\n",
      "' Understanding DataScience Programming Languages for managers BigData Python Rstats J' => machine learning\n",
      "' Ways Machine Learning Is Impacting Millennial Marketing Millennial Marketing DigitalMark' => machine learning\n",
      "'Hummingbirds D Printing And Deep Learning DeepLearning MachineLearning' => machine learning\n",
      "'pasta pastadinner' => food\n",
      "' Happy birthday to me and Happy Childrens day to everyonenever let the child in you die bethechildinyou Thank you for' => happy birthday\n"
     ]
    }
   ],
   "source": [
    "counter  = 0\n",
    "for doc, category in zip(x_test, real_predicted):\n",
    "    print('%r => %s' % (doc, category))\n",
    "    if(counter == 200):\n",
    "        break\n",
    "    counter += 1"
   ]
  },
  {
   "cell_type": "code",
   "execution_count": 15,
   "metadata": {},
   "outputs": [
    {
     "name": "stdout",
     "output_type": "stream",
     "text": [
      "Directory  results  already exists\n"
     ]
    }
   ],
   "source": [
    "import os\n",
    "import time\n",
    "import sys\n",
    "\n",
    "dirName = 'results'\n",
    " \n",
    "try:\n",
    "    # Create target Directory\n",
    "    os.mkdir(dirName)\n",
    "    print(\"Directory \" , dirName ,  \" Created \") \n",
    "except FileExistsError:\n",
    "    print(\"Directory \" , dirName ,  \" already exists\")\n",
    "\n",
    "## predictions for first 10 test samples\n",
    "text_hollywood = ''\n",
    "text_bollywood = ''\n",
    "text_ml = ''\n",
    "text_football = ''\n",
    "text_bigg_boss = ''\n",
    "text_food = '' \n",
    "text_hp_day = ''\n",
    "text_politics = ''\n",
    "text_mobiles = ''\n",
    "text_cricket = ''\n",
    "counter  = 0\n",
    "for doc, category in zip(x_test, real_predicted):\n",
    "    if category == \"hollywood\":\n",
    "        f= open('results/'+ category+\".txt\",\"w+\")\n",
    "        if (text_hollywood != \"\"):\n",
    "            text_hollywood = text_hollywood + '\\n' + doc\n",
    "        else:\n",
    "            text_hollywood = doc\n",
    "        f.write(text_hollywood)\n",
    "        f.close()\n",
    "    if category == \"bollywood\":\n",
    "        f= open('results/'+ category +\".txt\",\"w+\")\n",
    "        if (text_bollywood != \"\"):\n",
    "            text_bollywood = text_bollywood + '\\n' + doc\n",
    "        else:\n",
    "            text_bollywood = doc\n",
    "        f.write(text_bollywood)\n",
    "        f.close()\n",
    "    if category == \"machine learning\":\n",
    "        f= open('results/'+ category +\".txt\",\"w+\")\n",
    "        if (text_ml != \"\"):\n",
    "            text_ml = text_ml + '\\n' + doc\n",
    "        else:\n",
    "            text_ml = doc\n",
    "        f.write(text_ml)\n",
    "        f.close()\n",
    "    if category == \"football\":\n",
    "        f= open('results/'+ category +\".txt\",\"w+\")\n",
    "        if (text_football != \"\"):\n",
    "            text_football = text_football + '\\n' + doc\n",
    "        else:\n",
    "            text_football = doc\n",
    "        f.write(text_football)\n",
    "        f.close()\n",
    "    if category == \"bigg boss\":\n",
    "        f= open('results/'+ category +\".txt\",\"w+\")\n",
    "        if (text_bigg_boss != \"\"):\n",
    "            text_bigg_boss = text_bigg_boss + '\\n' + doc\n",
    "        else:\n",
    "            text_bigg_boss = doc\n",
    "        f.write(text_bigg_boss)\n",
    "        f.close()\n",
    "    if category == \"food\":\n",
    "        f= open('results/'+ category +\".txt\",\"w+\")\n",
    "        if (text_food != \"\"):\n",
    "            text_food = text_food + '\\n' + doc\n",
    "        else:\n",
    "            text_food = doc\n",
    "        f.write(text_food)\n",
    "        f.close()\n",
    "    if category == \"happy birthday\":\n",
    "        f= open('results/'+ category +\".txt\",\"w+\")\n",
    "        if (text_hp_day != \"\"):\n",
    "            text_hp_day = text_hp_day + '\\n' + doc\n",
    "        else:\n",
    "            text_hp_day = doc\n",
    "        f.write(text_hp_day)\n",
    "        f.close() \n",
    "    if category == \"politics\":\n",
    "        f= open('results/'+ category +\".txt\",\"w+\")\n",
    "        if (text_politics != \"\"):\n",
    "            text_politics = text_politics + '\\n' + doc\n",
    "        else:\n",
    "            text_politics = doc\n",
    "        f.write(text_politics)\n",
    "        f.close() \n",
    "    if category == \"mobiles\":\n",
    "        f= open('results/'+category+\".txt\",\"w+\")\n",
    "        if (text_mobiles != \"\"):\n",
    "            text_mobiles = text_mobiles + '\\n' + doc\n",
    "        else:\n",
    "            text_mobiles = doc\n",
    "        f.write(text_mobiles)\n",
    "        f.close()\n",
    "    if category == \"cricket\":\n",
    "        f= open('results/'+ category +\".txt\",\"w+\")\n",
    "        if (text_cricket != \"\"):\n",
    "            text_cricket = text_cricket + '\\n' + doc\n",
    "        else:\n",
    "            text_cricket = doc\n",
    "        f.write(text_cricket)\n",
    "        f.close()\n",
    "\n"
   ]
  },
  {
   "cell_type": "code",
   "execution_count": 16,
   "metadata": {},
   "outputs": [
    {
     "name": "stdout",
     "output_type": "stream",
     "text": [
      "Accuracy achieved is 0.9412181303116147\n",
      "                  precision    recall  f1-score   support\n",
      "\n",
      "       bollywood       1.00      0.86      0.92       260\n",
      "       hollywood       0.89      0.94      0.91       967\n",
      "        politics       0.99      0.98      0.98      1052\n",
      "         cricket       0.95      0.95      0.95       996\n",
      "            food       0.89      0.97      0.93      1000\n",
      "        football       0.98      0.94      0.96       643\n",
      "         mobiles       0.93      0.89      0.91       976\n",
      "machine learning       0.95      0.98      0.97      1038\n",
      "       bigg boss       1.00      0.69      0.81        83\n",
      "  happy birthday       1.00      0.40      0.57        45\n",
      "\n",
      "        accuracy                           0.94      7060\n",
      "       macro avg       0.96      0.86      0.89      7060\n",
      "    weighted avg       0.94      0.94      0.94      7060\n",
      "\n"
     ]
    },
    {
     "data": {
      "text/plain": [
       "array([[ 223,   23,    1,    1,    7,    1,    4,    0,    0,    0],\n",
       "       [   0,  909,    1,    5,   15,    4,   24,    9,    0,    0],\n",
       "       [   0,    6, 1027,    0,   15,    1,    3,    0,    0,    0],\n",
       "       [   0,    3,    0,  945,   19,    1,   15,   13,    0,    0],\n",
       "       [   0,    2,    0,    5,  975,    0,   10,    8,    0,    0],\n",
       "       [   0,   10,    0,    9,   14,  604,    5,    1,    0,    0],\n",
       "       [   0,   50,    1,   15,   31,    2,  866,   11,    0,    0],\n",
       "       [   0,    1,    0,    4,    8,    1,    3, 1021,    0,    0],\n",
       "       [   0,    4,    5,    3,    5,    0,    2,    7,   57,    0],\n",
       "       [   0,   19,    1,    3,    3,    0,    0,    1,    0,   18]],\n",
       "      dtype=int64)"
      ]
     },
     "execution_count": 16,
     "metadata": {},
     "output_type": "execute_result"
    }
   ],
   "source": [
    "print('Accuracy achieved is ' + str(np.mean(real_predicted == y_test)))\n",
    "print(metrics.classification_report(y_test, real_predicted, target_names=categories)),\n",
    "metrics.confusion_matrix(y_test, real_predicted)"
   ]
  },
  {
   "cell_type": "code",
   "execution_count": null,
   "metadata": {},
   "outputs": [],
   "source": []
  }
 ],
 "metadata": {
  "kernelspec": {
   "display_name": "Python 3",
   "language": "python",
   "name": "python3"
  },
  "language_info": {
   "codemirror_mode": {
    "name": "ipython",
    "version": 3
   },
   "file_extension": ".py",
   "mimetype": "text/x-python",
   "name": "python",
   "nbconvert_exporter": "python",
   "pygments_lexer": "ipython3",
   "version": "3.6.5"
  }
 },
 "nbformat": 4,
 "nbformat_minor": 2
}
